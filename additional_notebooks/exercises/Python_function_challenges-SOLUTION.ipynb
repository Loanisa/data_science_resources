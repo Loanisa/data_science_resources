{
 "cells": [
  {
   "cell_type": "markdown",
   "id": "9ee67be3",
   "metadata": {},
   "source": [
    "Write a function that takes in a string and returns the string with all the vowels\n",
    "removed. Test it using the following code (you should see no output):"
   ]
  },
  {
   "cell_type": "code",
   "execution_count": 3,
   "id": "d9d831de",
   "metadata": {},
   "outputs": [],
   "source": [
    "def remove_vowels(string):\n",
    "    \"\"\"Returns a string with the vowels removed.\"\"\"\n",
    "    vowels = \"aeiouAEIOU\"\n",
    "    new_string = \"\"\n",
    "    for char in string:\n",
    "        if char not in vowels:\n",
    "            new_string += char\n",
    "    return new_string"
   ]
  },
  {
   "cell_type": "code",
   "execution_count": 4,
   "id": "f5b98458",
   "metadata": {},
   "outputs": [
    {
     "data": {
      "text/plain": [
       "True"
      ]
     },
     "execution_count": 4,
     "metadata": {},
     "output_type": "execute_result"
    }
   ],
   "source": [
    "remove_vowels(\"We all love Python!\") == \"W ll lv Pythn!\""
   ]
  },
  {
   "cell_type": "markdown",
   "id": "d5b2d51a",
   "metadata": {},
   "source": [
    "This exercise is famous, and a perhaps one of the most popular “can you handle basic programming” interview questions. Write a function, fizzbuzz, with a single integer argument named value. If the value is evenly divisible by three, return the string “fizz”. It the value is evenly divisible by five, return the string “buzz”. If the value is evenly divisible by both three and five, return fizzbuzz. Finally, if none of these apply, return an empty string."
   ]
  },
  {
   "cell_type": "code",
   "execution_count": 5,
   "id": "26e96348",
   "metadata": {},
   "outputs": [
    {
     "name": "stdout",
     "output_type": "stream",
     "text": [
      "fizz\n",
      "fizz\n",
      "fizz\n",
      "\n",
      "buzz\n",
      "buzz\n",
      "buzz\n",
      "\n",
      "fizzbuzz\n",
      "fizzbuzz\n",
      "fizzbuzz\n"
     ]
    }
   ],
   "source": [
    "def fizzbuzz(value: int) -> str:\n",
    "    result = \"\"\n",
    "    if value % 3 == 0:\n",
    "        result += \"fizz\"\n",
    "    if value % 5 == 0:\n",
    "        result += \"buzz\"\n",
    "    return result\n",
    "    \n",
    "values = [3,6,9,11,10,20,40,23,15,30,60]\n",
    "for value in values:\n",
    "    print(fizzbuzz(value))"
   ]
  },
  {
   "cell_type": "markdown",
   "id": "e5c1c144",
   "metadata": {},
   "source": [
    "Given two integers, return True if the sum of the integers is 20 or if one of the integers is 20. If not, return False\n",
    "\n",
    "\n",
    "makes_twenty(20,10) --> True\n",
    "\n",
    "makes_twenty(12,8) --> True\n",
    "\n",
    "makes_twenty(2,3) --> False"
   ]
  },
  {
   "cell_type": "code",
   "execution_count": 9,
   "id": "6db48a47",
   "metadata": {},
   "outputs": [
    {
     "name": "stdout",
     "output_type": "stream",
     "text": [
      "True\n",
      "True\n",
      "False\n"
     ]
    }
   ],
   "source": [
    "def makes_twenty(n1,n2):\n",
    "    return (n1+n2)==20 or n1==20 or n2==20\n",
    "\n",
    "print(makes_twenty(20,10))\n",
    "\n",
    "print(makes_twenty(12,8))\n",
    "\n",
    "print(makes_twenty(2,3))"
   ]
  },
  {
   "cell_type": "markdown",
   "id": "90ac2c47",
   "metadata": {},
   "source": [
    "MASTER YODA: Given a sentence, return a sentence with the words reversed\n",
    "\n",
    "master_yoda('I am home') --> 'home am I'\n",
    "\n",
    "master_yoda('We are ready') --> 'ready are We'"
   ]
  },
  {
   "cell_type": "code",
   "execution_count": 10,
   "id": "0ec2d1b7",
   "metadata": {},
   "outputs": [
    {
     "name": "stdout",
     "output_type": "stream",
     "text": [
      "home am I\n",
      "ready are We\n"
     ]
    }
   ],
   "source": [
    "def master_yoda(text):\n",
    "    return ' '.join(text.split()[::-1])\n",
    "\n",
    "print(master_yoda('I am home'))\n",
    "'home am I'\n",
    "\n",
    "print(master_yoda('We are ready'))"
   ]
  },
  {
   "cell_type": "markdown",
   "id": "74a1d148",
   "metadata": {},
   "source": [
    "SPY GAME: Write a function that takes in a list of integers and returns True if it contains 007 in order\n",
    "    \n",
    "spy_game([1,2,4,0,0,7,5]) --> True\n",
    "\n",
    "spy_game([1,0,2,4,0,5,7]) --> True\n",
    "\n",
    "spy_game([1,7,2,0,4,5,0]) --> False"
   ]
  },
  {
   "cell_type": "code",
   "execution_count": 14,
   "id": "73005797",
   "metadata": {},
   "outputs": [
    {
     "name": "stdout",
     "output_type": "stream",
     "text": [
      "True\n",
      "True\n",
      "False\n"
     ]
    }
   ],
   "source": [
    "def spy_game(nums: list[int]) -> bool:\n",
    "\n",
    "    code = [0,0,7,'x']\n",
    "    \n",
    "    for num in nums:\n",
    "        if num == code[0]:\n",
    "            code.pop(0)   # code.remove(num) also works\n",
    "       \n",
    "    return len(code) == 1\n",
    "\n",
    "print(spy_game([1,2,4,0,0,7,5]))\n",
    "\n",
    "print(spy_game([1,0,2,4,0,5,7]))\n",
    "\n",
    "print(spy_game([1,7,2,0,4,5,0]))"
   ]
  },
  {
   "cell_type": "markdown",
   "id": "c0d3999c",
   "metadata": {},
   "source": [
    "COUNT PRIMES: Write a function that returns the number of prime numbers that exist up to and including a given number\n",
    "count_primes(100) --> 25\n",
    "\n",
    "By convention, 0 and 1 are not prime."
   ]
  },
  {
   "cell_type": "code",
   "execution_count": 15,
   "id": "8d30581b",
   "metadata": {},
   "outputs": [
    {
     "name": "stdout",
     "output_type": "stream",
     "text": [
      "[2, 3, 5, 7, 11, 13, 17, 19, 23, 29, 31, 37, 41, 43, 47, 53, 59, 61, 67, 71, 73, 79, 83, 89, 97]\n"
     ]
    },
    {
     "data": {
      "text/plain": [
       "25"
      ]
     },
     "execution_count": 15,
     "metadata": {},
     "output_type": "execute_result"
    }
   ],
   "source": [
    "\n",
    "\n",
    "def count_primes(num):\n",
    "    primes = [2]\n",
    "    x = 3\n",
    "    if num < 2:  # for the case of num = 0 or 1\n",
    "        return 0\n",
    "    while x <= num:\n",
    "        for y in range(3,x,2):  # test all odd factors up to x-1\n",
    "            if x%y == 0:\n",
    "                x += 2\n",
    "                break\n",
    "        else:\n",
    "            primes.append(x)\n",
    "            x += 2\n",
    "    print(primes)\n",
    "    return len(primes)\n",
    "                \n",
    "# Check\n",
    "count_primes(100)"
   ]
  },
  {
   "cell_type": "code",
   "execution_count": null,
   "id": "e2165cce",
   "metadata": {},
   "outputs": [],
   "source": [
    "BONUS: Here's a faster version that makes use of the prime numbers we're collecting as we go!\n",
    "\n",
    "def count_primes2(num):\n",
    "    primes = [2]\n",
    "    x = 3\n",
    "    if num < 2:\n",
    "        return 0\n",
    "    while x <= num:\n",
    "        for y in primes:  # use the primes list!\n",
    "            if x%y == 0:\n",
    "                x += 2\n",
    "                break\n",
    "        else:\n",
    "            primes.append(x)\n",
    "            x += 2\n",
    "    print(primes)\n",
    "    return len(primes)\n",
    "count_primes2(100)"
   ]
  }
 ],
 "metadata": {
  "kernelspec": {
   "display_name": "Python 3 (ipykernel)",
   "language": "python",
   "name": "python3"
  },
  "language_info": {
   "codemirror_mode": {
    "name": "ipython",
    "version": 3
   },
   "file_extension": ".py",
   "mimetype": "text/x-python",
   "name": "python",
   "nbconvert_exporter": "python",
   "pygments_lexer": "ipython3",
   "version": "3.10.9"
  }
 },
 "nbformat": 4,
 "nbformat_minor": 5
}
